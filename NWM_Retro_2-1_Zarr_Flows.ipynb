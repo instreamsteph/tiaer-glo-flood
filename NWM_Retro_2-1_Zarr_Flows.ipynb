{
 "cells": [
  {
   "cell_type": "code",
   "execution_count": null,
   "id": "af3e8321",
   "metadata": {},
   "outputs": [],
   "source": [
    "import xarray as xr\n",
    "import fsspec\n",
    "import numpy as np\n",
    "import pandas as pd \n",
    "import matplotlib.pyplot as plt\n",
    "from dask.distributed import Client, progress"
   ]
  },
  {
   "cell_type": "code",
   "execution_count": null,
   "id": "90438667",
   "metadata": {},
   "outputs": [],
   "source": [
    "client = Client()\n",
    "client"
   ]
  },
  {
   "cell_type": "code",
   "execution_count": null,
   "id": "b50c1d19",
   "metadata": {},
   "outputs": [],
   "source": [
    "url = 's3://noaa-nwm-retrospective-2-1-zarr-pds/chrtout.zarr'"
   ]
  },
  {
   "cell_type": "code",
   "execution_count": null,
   "id": "9db177e0",
   "metadata": {},
   "outputs": [],
   "source": [
    "%%time\n",
    "ds = xr.open_zarr(fsspec.get_mapper(url, anon=True), consolidated=True)"
   ]
  },
  {
   "cell_type": "code",
   "execution_count": null,
   "id": "644f654f",
   "metadata": {},
   "outputs": [],
   "source": [
    "ds"
   ]
  },
  {
   "cell_type": "code",
   "execution_count": null,
   "id": "9f066f1d",
   "metadata": {},
   "outputs": [],
   "source": [
    "reaches = np.sort(np.array([1562342,1565974,1565994,1565954,1565918,1565920,1565988,1566002,1566064,1566056,1566054,1566094,1565986,1563886,1566026]))"
   ]
  },
  {
   "cell_type": "code",
   "execution_count": null,
   "id": "d41debd9",
   "metadata": {},
   "outputs": [],
   "source": [
    "%%time\n",
    "dsflows = ds.streamflow.sel(feature_id=reaches).compute()"
   ]
  },
  {
   "cell_type": "code",
   "execution_count": null,
   "id": "03190418",
   "metadata": {},
   "outputs": [],
   "source": [
    "df= dsflows.to_pandas()"
   ]
  },
  {
   "cell_type": "code",
   "execution_count": null,
   "id": "cf8cc7f9",
   "metadata": {},
   "outputs": [],
   "source": [
    "df"
   ]
  },
  {
   "cell_type": "code",
   "execution_count": null,
   "id": "bc78f622",
   "metadata": {},
   "outputs": [],
   "source": [
    "df.to_csv(r\"C:\\Users\\sbrady\\Downloads\\DickinsonBayou_NwmRetro2-1ZarrFlows.csv\")"
   ]
  }
 ],
 "metadata": {
  "kernelspec": {
   "display_name": "Python 3 (ipykernel)",
   "language": "python",
   "name": "python3"
  },
  "language_info": {
   "codemirror_mode": {
    "name": "ipython",
    "version": 3
   },
   "file_extension": ".py",
   "mimetype": "text/x-python",
   "name": "python",
   "nbconvert_exporter": "python",
   "pygments_lexer": "ipython3",
   "version": "3.9.7"
  }
 },
 "nbformat": 4,
 "nbformat_minor": 5
}
