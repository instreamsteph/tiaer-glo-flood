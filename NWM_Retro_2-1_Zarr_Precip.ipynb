{
 "cells": [
  {
   "cell_type": "code",
   "execution_count": null,
   "id": "38e31988",
   "metadata": {},
   "outputs": [],
   "source": [
    "import xarray as xr\n",
    "import fsspec\n",
    "import numpy as np\n",
    "import pandas as pd\n",
    "import matplotlib.pyplot as plt\n",
    "from dask.distributed import Client, progress\n",
    "from pathlib import Path "
   ]
  },
  {
   "cell_type": "code",
   "execution_count": null,
   "id": "d70b52c5",
   "metadata": {},
   "outputs": [],
   "source": [
    "client = Client()\n",
    "client"
   ]
  },
  {
   "cell_type": "code",
   "execution_count": null,
   "id": "e63d6d4e",
   "metadata": {},
   "outputs": [],
   "source": [
    "url = 's3://noaa-nwm-retrospective-2-1-zarr-pds/precip.zarr'"
   ]
  },
  {
   "cell_type": "code",
   "execution_count": null,
   "id": "478883e3",
   "metadata": {},
   "outputs": [],
   "source": [
    "%%time\n",
    "ds = xr.open_zarr(fsspec.get_mapper(url, anon=True), consolidated=True)"
   ]
  },
  {
   "cell_type": "code",
   "execution_count": null,
   "id": "7de8319d",
   "metadata": {},
   "outputs": [],
   "source": [
    "ds"
   ]
  },
  {
   "cell_type": "code",
   "execution_count": null,
   "id": "dc0e283d",
   "metadata": {},
   "outputs": [],
   "source": [
    "ds.RAINRATE\n"
   ]
  },
  {
   "cell_type": "code",
   "execution_count": null,
   "id": "d20a39f5",
   "metadata": {},
   "outputs": [],
   "source": [
    "ds.RAINRATE.esri_pe_string"
   ]
  },
  {
   "cell_type": "code",
   "execution_count": null,
   "id": "97136bd4",
   "metadata": {},
   "outputs": [],
   "source": [
    "## input the coordinates {y1:x1, y2:x2} or {lat1:long1, lat2:long2} format\n",
    "Coordinates = {-1131207.186: 166599.7097} # Hobby Airport\n",
    "##Coordinates = {-1115315.2193: 81203.1552,-1115178.9781: 73202.0731,-1114745.2073: 85011.1184,-1114823.3322: 77198.5283,-1110537.0666: 81155.3195,-1110497.0396: 85059.5592,-1110576.9827: 77065.1435,-1110111.0867: 69474.9337,-1110093.8945: 92771.3761,-1110030.4448: 88959.1182,-1110080.6105: 73341.9814,-1106436.4457: 77025.7806,-1106289.4588: 81205.7142,-1106220.0463: 65409.2229,-1105896.1206: 88356.2480,-1105632.8797: 92906.1487,-1105722.5089: 84730.7200,-1105731.1558: 72930.9845,-1102110.4083: 84971.5581,-1101497.2647: 92487.2548,-1100795.8328: 88764.9134}"
   ]
  },
  {
   "cell_type": "code",
   "execution_count": null,
   "id": "4d6333d3",
   "metadata": {
    "scrolled": true
   },
   "outputs": [],
   "source": [
    "t=0\n",
    "header = ''\n",
    "for k, v in Coordinates.items():\n",
    "    cord = str(k) + ',' + str(v)\n",
    "    if (t==0):\n",
    "        a = ds.RAINRATE.sel(y = k, x= v, method=\"nearest\" )\n",
    "        df = a.to_pandas()\n",
    "        df =df.to_frame()\n",
    "        df.rename(columns={0: cord}, inplace=True)\n",
    "        \n",
    "    else:\n",
    "        a1 = ds.RAINRATE.sel(y = k, x= v, method=\"nearest\" )\n",
    "        df1 = a1.to_pandas()\n",
    "        df1 =df1.to_frame()\n",
    "        df1.rename(columns={0: cord}, inplace=True)\n",
    "        \n",
    "        df= pd.merge(df, df1, suffixes=(False, False), left_index=True, right_index=True )\n",
    "    t+=1\n",
    "    "
   ]
  },
  {
   "cell_type": "code",
   "execution_count": null,
   "id": "90018e60",
   "metadata": {},
   "outputs": [],
   "source": [
    "df"
   ]
  },
  {
   "cell_type": "code",
   "execution_count": null,
   "id": "2fd263b2",
   "metadata": {},
   "outputs": [],
   "source": [
    "filepath = Path('C:/Users/sbrady/Downloads/DickinsonBayou_NwmRetro2-1Zarr_Precip.csv')  \n",
    "filepath.parent.mkdir(parents=True, exist_ok=True)  \n",
    "df.to_csv(filepath)  "
   ]
  }
 ],
 "metadata": {
  "kernelspec": {
   "display_name": "Python 3 (ipykernel)",
   "language": "python",
   "name": "python3"
  },
  "language_info": {
   "codemirror_mode": {
    "name": "ipython",
    "version": 3
   },
   "file_extension": ".py",
   "mimetype": "text/x-python",
   "name": "python",
   "nbconvert_exporter": "python",
   "pygments_lexer": "ipython3",
   "version": "3.9.7"
  }
 },
 "nbformat": 4,
 "nbformat_minor": 5
}
